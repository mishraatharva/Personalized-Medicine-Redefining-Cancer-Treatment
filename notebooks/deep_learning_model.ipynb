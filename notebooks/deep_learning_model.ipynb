{
 "cells": [
  {
   "cell_type": "code",
   "execution_count": 1,
   "metadata": {},
   "outputs": [],
   "source": [
    "import torch\n",
    "import torch.nn as nn\n",
    "import torch.nn.functional as F\n",
    "import torch.optim as optim\n",
    "from torch.utils.data import DataLoader\n",
    "from torch.utils.data import Dataset\n",
    "from sklearn.preprocessing import LabelEncoder\n",
    "\n",
    "from torch.nn.utils.rnn import pad_sequence\n",
    "import numpy as np\n",
    "from sklearn.utils.class_weight import compute_class_weight\n",
    "from tqdm import tqdm\n",
    "import pandas as pd\n",
    "from sklearn.model_selection import train_test_split\n",
    "import logging\n",
    "import os"
   ]
  },
  {
   "cell_type": "code",
   "execution_count": 2,
   "metadata": {},
   "outputs": [],
   "source": [
    "import nltk\n",
    "import spacy"
   ]
  },
  {
   "cell_type": "code",
   "execution_count": 3,
   "metadata": {},
   "outputs": [],
   "source": [
    "nlp = spacy.load(\"en_core_web_sm\")"
   ]
  },
  {
   "cell_type": "code",
   "execution_count": 4,
   "metadata": {},
   "outputs": [],
   "source": [
    "logs_dir = \"logs\"\n",
    "base_path = r\"U:\\nlp_project\\Personalized-Medicine-Redefining-Cancer-Treatment\\artifacts\"\n",
    "logs_dir = os.path.join(base_path,logs_dir)"
   ]
  },
  {
   "cell_type": "code",
   "execution_count": 5,
   "metadata": {},
   "outputs": [],
   "source": [
    "def return_logger(file_name,idx):\n",
    "    if not os.path.exists(logs_dir):\n",
    "        os.makedirs(logs_dir, exist_ok=True)\n",
    "        \n",
    "    log_file_path = os.path.join(logs_dir, f\"training_{file_name}_log_file_{idx}.log\")\n",
    "\n",
    "    logger = logging.getLogger()\n",
    "\n",
    "    logging.basicConfig(filename=log_file_path, format='%(asctime)s %(message)s', filemode='w')\n",
    "    \n",
    "    logger = logging.getLogger()\n",
    "    logger.setLevel(logging.DEBUG)\n",
    "    return logger"
   ]
  },
  {
   "cell_type": "code",
   "execution_count": 6,
   "metadata": {},
   "outputs": [],
   "source": [
    "final_data = pd.read_csv(r\"U:\\nlp_project\\Personalized-Medicine-Redefining-Cancer-Treatment\\artifacts\\data\\final_data.csv\")"
   ]
  },
  {
   "cell_type": "code",
   "execution_count": 7,
   "metadata": {},
   "outputs": [
    {
     "data": {
      "text/plain": [
       "263"
      ]
     },
     "execution_count": 7,
     "metadata": {},
     "output_type": "execute_result"
    }
   ],
   "source": [
    "final_data[\"Gene\"].nunique()"
   ]
  },
  {
   "cell_type": "code",
   "execution_count": 8,
   "metadata": {},
   "outputs": [
    {
     "data": {
      "text/plain": [
       "2993"
      ]
     },
     "execution_count": 8,
     "metadata": {},
     "output_type": "execute_result"
    }
   ],
   "source": [
    "final_data[\"Variation\"].nunique()"
   ]
  },
  {
   "cell_type": "code",
   "execution_count": 9,
   "metadata": {},
   "outputs": [
    {
     "data": {
      "text/plain": [
       "(3315, 5)"
      ]
     },
     "execution_count": 9,
     "metadata": {},
     "output_type": "execute_result"
    }
   ],
   "source": [
    "final_data.shape"
   ]
  },
  {
   "cell_type": "code",
   "execution_count": 10,
   "metadata": {},
   "outputs": [
    {
     "name": "stdout",
     "output_type": "stream",
     "text": [
      "<class 'pandas.core.frame.DataFrame'>\n",
      "RangeIndex: 3315 entries, 0 to 3314\n",
      "Data columns (total 5 columns):\n",
      " #   Column     Non-Null Count  Dtype  \n",
      "---  ------     --------------  -----  \n",
      " 0   ID         3315 non-null   int64  \n",
      " 1   Gene       3315 non-null   object \n",
      " 2   Variation  3315 non-null   object \n",
      " 3   Text       3315 non-null   object \n",
      " 4   Class      3315 non-null   float64\n",
      "dtypes: float64(1), int64(1), object(3)\n",
      "memory usage: 129.6+ KB\n"
     ]
    }
   ],
   "source": [
    "final_data.info()"
   ]
  },
  {
   "cell_type": "code",
   "execution_count": 11,
   "metadata": {},
   "outputs": [],
   "source": [
    "y_true = final_data['Class']"
   ]
  },
  {
   "cell_type": "code",
   "execution_count": 12,
   "metadata": {},
   "outputs": [],
   "source": [
    "final_data.Gene = final_data.Gene.str.replace('\\s+', '_')\n",
    "final_data.Variation = final_data.Gene.str.replace('\\s+', '_')\n",
    "\n",
    "X_train, X_test, y_train, y_test = train_test_split(final_data, y_true, random_state=42, test_size=0.20)\n",
    "X_train, X_val, y_train, y_val = train_test_split(X_train, y_train, random_state=45, test_size=0.20)"
   ]
  },
  {
   "cell_type": "code",
   "execution_count": 13,
   "metadata": {},
   "outputs": [
    {
     "name": "stdout",
     "output_type": "stream",
     "text": [
      "X_train shape:(2121, 5) y_train shape(2121,)\n",
      "X_test shape:(663, 5) y_train shape(663,)\n",
      "X_test shape:(531, 5) y_train shape(531,)\n"
     ]
    }
   ],
   "source": [
    "print(f\"X_train shape:{X_train.shape} y_train shape{y_train.shape}\")\n",
    "print(f\"X_test shape:{X_test.shape} y_train shape{y_test.shape}\")\n",
    "print(f\"X_test shape:{X_val.shape} y_train shape{y_val.shape}\")"
   ]
  },
  {
   "cell_type": "code",
   "execution_count": 14,
   "metadata": {},
   "outputs": [
    {
     "data": {
      "text/plain": [
       "0"
      ]
     },
     "execution_count": 14,
     "metadata": {},
     "output_type": "execute_result"
    }
   ],
   "source": [
    "torch.cuda.memory_allocated()\n",
    "torch.cuda.max_memory_allocated()"
   ]
  },
  {
   "cell_type": "markdown",
   "metadata": {},
   "source": [
    "#### Prepairing Data:"
   ]
  },
  {
   "cell_type": "code",
   "execution_count": null,
   "metadata": {},
   "outputs": [],
   "source": [
    "train_text = X_train[\"Text\"].tolist()\n",
    "test_text = X_test[\"Text\"].tolist() \n",
    "validation_text = X_val[\"Text\"].tolist()\n",
    "\n",
    "def get_tokenized_text(texts):\n",
    "    tokenized_text = []\n",
    "    for text in texts:\n",
    "        tokenized_text.append(nlp(text))  # Assuming nlp is a spaCy tokenizer\n",
    "    return tokenized_text\n",
    "\n",
    "def create_vocabulary(tokenized_text):\n",
    "    unique_word = set(str(word) for sublist in tokenized_text for word in sublist)  # Convert tokens to strings\n",
    "    vocab = {word: index for index, word in enumerate(unique_word, start=2)}\n",
    "    vocab[\"<pad>\"] = 0  # Padding token\n",
    "    vocab[\"<unk>\"] = 1  # Unknown token\n",
    "    return vocab\n",
    "\n",
    "def text_to_numerical_representation(vocab, tokenized_text):\n",
    "    normalized_data = [[vocab.get(str(word), vocab[\"<unk>\"]) for word in sentence] for sentence in tokenized_text]\n",
    "    return normalized_data\n",
    "\n",
    "tokenized_text_train = get_tokenized_text(train_text)\n",
    "tokenized_text_test = get_tokenized_text(test_text)\n",
    "tokenized_text_validation = get_tokenized_text(validation_text)\n",
    "\n",
    "vocab = create_vocabulary(tokenized_text_train)"
   ]
  },
  {
   "cell_type": "code",
   "execution_count": null,
   "metadata": {},
   "outputs": [],
   "source": [
    "text_to_numerical_representation_train = text_to_numerical_representation(vocab, tokenized_text_train)\n",
    "text_to_numerical_representation_test = text_to_numerical_representation(vocab, tokenized_text_test)\n",
    "text_to_numerical_representation_val = text_to_numerical_representation(vocab, tokenized_text_validation)"
   ]
  },
  {
   "cell_type": "code",
   "execution_count": null,
   "metadata": {},
   "outputs": [],
   "source": [
    "text_to_numerical_representation_train = [torch.tensor(txt) for txt in text_to_numerical_representation_train]\n",
    "text_to_numerical_representation_test = [torch.tensor(txt) for txt in text_to_numerical_representation_test]\n",
    "text_to_numerical_representation_val = [torch.tensor(txt) for txt in text_to_numerical_representation_val]"
   ]
  },
  {
   "cell_type": "code",
   "execution_count": null,
   "metadata": {},
   "outputs": [],
   "source": [
    "print(torch.cuda.memory_allocated())\n",
    "print(torch.cuda.max_memory_allocated())"
   ]
  },
  {
   "cell_type": "code",
   "execution_count": 16,
   "metadata": {},
   "outputs": [],
   "source": [
    "import gc\n",
    "# del train_data, test_data, val_data  # Delete variables if they exist\n",
    "gc.collect()  # Python garbage collection\n",
    "torch.cuda.empty_cache()"
   ]
  },
  {
   "cell_type": "code",
   "execution_count": 15,
   "metadata": {},
   "outputs": [],
   "source": [
    "def encode_cat(categories, encoder):\n",
    "    print(\"encoding\")\n",
    "    return torch.tensor([encoder.transform([cat])[0] if cat in encoder.classes_ else -1 for cat in categories])"
   ]
  },
  {
   "cell_type": "code",
   "execution_count": null,
   "metadata": {},
   "outputs": [],
   "source": [
    "gene_train = X_train[\"Gene\"].tolist()\n",
    "variation_train = X_train[\"Variation\"].tolist()\n",
    "\n",
    "gene_test = X_test[\"Gene\"].tolist()\n",
    "variation_test = X_test[\"Variation\"].tolist()\n",
    "\n",
    "gene_val = X_val[\"Gene\"].tolist()\n",
    "variation_val = X_val[\"Variation\"].tolist()"
   ]
  },
  {
   "cell_type": "code",
   "execution_count": null,
   "metadata": {},
   "outputs": [],
   "source": [
    "encoder_gene = LabelEncoder()\n",
    "encoder_variation = LabelEncoder()"
   ]
  },
  {
   "cell_type": "code",
   "execution_count": null,
   "metadata": {},
   "outputs": [],
   "source": [
    "gene_train_encoded = encoder_gene.fit_transform(gene_train)\n",
    "variation_train_encoded = encoder_variation.fit_transform(variation_train)"
   ]
  },
  {
   "cell_type": "code",
   "execution_count": null,
   "metadata": {},
   "outputs": [],
   "source": [
    "gene_test_encoded = encode_cat(gene_test,encoder_gene)\n",
    "variation_test_encoded = encode_cat(variation_test,encoder_variation)"
   ]
  },
  {
   "cell_type": "code",
   "execution_count": null,
   "metadata": {},
   "outputs": [],
   "source": [
    "gene_val_encoded = encode_cat(gene_val,encoder_gene)\n",
    "variation_val_encoded = encode_cat(variation_val,encoder_variation)"
   ]
  },
  {
   "cell_type": "code",
   "execution_count": null,
   "metadata": {},
   "outputs": [],
   "source": [
    "# text_to_numerical_representation_train = pad_sequence(sequences=text_to_numerical_representation_train,batch_first=True,padding_value=True)\n",
    "# text_to_numerical_representation_test = pad_sequence(sequences=text_to_numerical_representation_test,batch_first=True,padding_value=True)\n",
    "# text_to_numerical_representation_val = pad_sequence(sequences=text_to_numerical_representation_val,batch_first=True,padding_value=True)"
   ]
  },
  {
   "cell_type": "code",
   "execution_count": 16,
   "metadata": {},
   "outputs": [
    {
     "name": "stdout",
     "output_type": "stream",
     "text": [
      "0\n",
      "0\n"
     ]
    }
   ],
   "source": [
    "import gc\n",
    "# del train_data, test_data, val_data  # Delete variables if they exist\n",
    "gc.collect()  # Python garbage collection\n",
    "torch.cuda.empty_cache()\n",
    "\n",
    "print(torch.cuda.memory_allocated())\n",
    "print(torch.cuda.max_memory_allocated())"
   ]
  },
  {
   "cell_type": "markdown",
   "metadata": {},
   "source": [
    "#### Saving Prepaired data:"
   ]
  },
  {
   "cell_type": "code",
   "execution_count": null,
   "metadata": {},
   "outputs": [],
   "source": [
    "import numpy as np\n",
    "\n",
    "np.savez(\"train_datas.npz\", \n",
    "         padded_text=np.array(text_to_numerical_representation_train,dtype=object), \n",
    "         encoded_gene=np.array(gene_train_encoded), \n",
    "         encoded_variance=np.array(variation_train_encoded) ,allow_pickle=True)\n",
    "\n",
    "np.savez(\"test_datas.npz\", \n",
    "         padded_text=np.array(text_to_numerical_representation_test,dtype=object), \n",
    "         encoded_gene=np.array(gene_test_encoded), \n",
    "         encoded_variance=np.array(variation_test_encoded),allow_pickle=True)\n",
    "\n",
    "np.savez(\"val_datas.npz\", \n",
    "         padded_text=np.array(text_to_numerical_representation_val,dtype=object), \n",
    "         encoded_gene=np.array(gene_val_encoded), \n",
    "         encoded_variance=np.array(variation_val_encoded),allow_pickle=True)\n",
    "\n",
    "print(\"Data saved successfully!\")"
   ]
  },
  {
   "cell_type": "code",
   "execution_count": null,
   "metadata": {},
   "outputs": [],
   "source": [
    "np.savez(\"target.npz\", \n",
    "         y_train=np.array(y_train), \n",
    "         y_test=np.array(y_test), \n",
    "         y_val=np.array(y_val),allow_pickle=True)"
   ]
  },
  {
   "cell_type": "code",
   "execution_count": null,
   "metadata": {},
   "outputs": [],
   "source": [
    "import pickle\n",
    "\n",
    "# Save to a file\n",
    "with open(\"vocab.pkl\", \"wb\") as f:\n",
    "    pickle.dump(vocab, f)"
   ]
  },
  {
   "cell_type": "code",
   "execution_count": null,
   "metadata": {},
   "outputs": [],
   "source": []
  },
  {
   "cell_type": "markdown",
   "metadata": {},
   "source": [
    "#### loading prepaired data:"
   ]
  },
  {
   "cell_type": "code",
   "execution_count": 16,
   "metadata": {},
   "outputs": [
    {
     "name": "stdout",
     "output_type": "stream",
     "text": [
      "Data loaded successfully!\n"
     ]
    }
   ],
   "source": [
    "train_data = np.load(r\"U:\\nlp_project\\Personalized-Medicine-Redefining-Cancer-Treatment\\artifacts\\data\\deep_learning_data\\train_datas.npz\",allow_pickle=True)\n",
    "test_data = np.load(r\"U:\\nlp_project\\Personalized-Medicine-Redefining-Cancer-Treatment\\artifacts\\data\\deep_learning_data\\test_datas.npz\",allow_pickle=True)\n",
    "val_data = np.load(r\"U:\\nlp_project\\Personalized-Medicine-Redefining-Cancer-Treatment\\artifacts\\data\\deep_learning_data\\val_datas.npz\",allow_pickle=True)\n",
    "\n",
    "\n",
    "text_to_numerical_representation_train = train_data[\"padded_text\"].tolist()\n",
    "gene_train_encoded = train_data[\"encoded_gene\"].tolist()\n",
    "variation_train_encoded = train_data[\"encoded_variance\"].tolist()\n",
    "\n",
    "text_to_numerical_representation_test = test_data[\"padded_text\"].tolist()\n",
    "gene_test_encoded = test_data[\"encoded_gene\"].tolist()\n",
    "variation_test_encoded = test_data[\"encoded_variance\"].tolist()\n",
    "\n",
    "text_to_numerical_representation_val = val_data[\"padded_text\"].tolist()\n",
    "gene_val_encoded = val_data[\"encoded_gene\"].tolist()\n",
    "variation_val_encoded = val_data[\"encoded_variance\"].tolist()\n",
    "\n",
    "print(\"Data loaded successfully!\")"
   ]
  },
  {
   "cell_type": "code",
   "execution_count": 17,
   "metadata": {},
   "outputs": [
    {
     "name": "stdout",
     "output_type": "stream",
     "text": [
      "-1\n",
      "225\n"
     ]
    }
   ],
   "source": [
    "print(min(gene_val_encoded))\n",
    "print(max(gene_val_encoded))"
   ]
  },
  {
   "cell_type": "code",
   "execution_count": 18,
   "metadata": {},
   "outputs": [
    {
     "name": "stdout",
     "output_type": "stream",
     "text": [
      "-1\n",
      "221\n"
     ]
    }
   ],
   "source": [
    "print(min(gene_test_encoded))\n",
    "print(max(gene_test_encoded))"
   ]
  },
  {
   "cell_type": "code",
   "execution_count": 19,
   "metadata": {},
   "outputs": [],
   "source": [
    "import pickle\n",
    "# Load the dictionary\n",
    "with open(r\"U:\\nlp_project\\Personalized-Medicine-Redefining-Cancer-Treatment\\artifacts\\data\\deep_learning_data\\vocab.pkl\", \"rb\") as f:\n",
    "    vocab = pickle.load(f)"
   ]
  },
  {
   "cell_type": "code",
   "execution_count": 20,
   "metadata": {},
   "outputs": [],
   "source": [
    "target_data = np.load(r\"U:\\nlp_project\\Personalized-Medicine-Redefining-Cancer-Treatment\\artifacts\\data\\deep_learning_data\\target.npz\", allow_pickle=True)\n",
    "\n",
    "\n",
    "y_train = target_data[\"y_train\"].tolist()\n",
    "y_test = target_data[\"y_test\"].tolist()\n",
    "y_val = target_data[\"y_val\"].tolist()"
   ]
  },
  {
   "cell_type": "code",
   "execution_count": 21,
   "metadata": {},
   "outputs": [
    {
     "name": "stdout",
     "output_type": "stream",
     "text": [
      "encoding\n",
      "encoding\n"
     ]
    }
   ],
   "source": [
    "encoder_target = LabelEncoder()\n",
    "y_train = encoder_target.fit_transform(y_train)\n",
    "\n",
    "y_test = encode_cat(y_test, encoder_target)\n",
    "y_val = encode_cat(y_val,encoder_target)"
   ]
  },
  {
   "cell_type": "markdown",
   "metadata": {},
   "source": [
    "#### Model Creation:"
   ]
  },
  {
   "cell_type": "code",
   "execution_count": 22,
   "metadata": {},
   "outputs": [],
   "source": [
    "device = torch.device(\"cuda\" if torch.cuda.is_available() else \"cpu\")\n",
    "# device = \"cpu\""
   ]
  },
  {
   "cell_type": "code",
   "execution_count": 23,
   "metadata": {},
   "outputs": [],
   "source": [
    "# Example Parameters\n",
    "vocab_size = len(vocab.keys())\n",
    "embed_dim = int(vocab_size ** 0.25)\n",
    "hidden_dim = 128\n",
    "num_classes = 9\n",
    "gene_size = 263\n",
    "variance_size = 2993\n",
    "gene_emb_dim = 5\n",
    "variance_emb_dim = 5"
   ]
  },
  {
   "cell_type": "code",
   "execution_count": 24,
   "metadata": {},
   "outputs": [],
   "source": [
    "import torch\n",
    "import torch.nn as nn\n",
    "import torch.optim as optim\n",
    "\n",
    "class MultiClassLSTM(nn.Module):\n",
    "    def __init__(self, vocab_size, embed_dim, hidden_dim, num_classes, gene_size, variance_size, gene_emb_dim, variance_emb_dim):\n",
    "        super(MultiClassLSTM, self).__init__()\n",
    "\n",
    "        # Text feature embedding + LSTM\n",
    "        self.text_embedding = nn.Embedding(vocab_size, embed_dim)\n",
    "        self.lstm = nn.LSTM(input_size=embed_dim, hidden_size=hidden_dim, num_layers=1, batch_first=True)\n",
    "\n",
    "        # Categorical feature embeddings\n",
    "        self.gene_embedding = nn.Embedding(gene_size, gene_emb_dim)\n",
    "        self.variance_embedding = nn.Embedding(variance_size, variance_emb_dim)\n",
    "        # Fully connected layer for classification\n",
    "        self.fc = nn.Sequential(\n",
    "            nn.Linear(hidden_dim + gene_emb_dim + variance_emb_dim, 128),\n",
    "            nn.ReLU(),\n",
    "            nn.Linear(128, num_classes)\n",
    "        )\n",
    "\n",
    "    def forward(self, text_input, gene_input, variance_input):\n",
    "        # Process text input through embedding and LSTM\n",
    "        text_embedded = self.text_embedding(text_input)\n",
    "        lstm_out, _ = self.lstm(text_embedded)\n",
    "        lstm_out = lstm_out[:, -1, :]  # Take the last hidden state\n",
    "\n",
    "        # Process categorical inputs through embeddings\n",
    "        gene_embedded = self.gene_embedding(gene_input).squeeze(1)\n",
    "        variance_embedded = self.variance_embedding(variance_input).squeeze(1)\n",
    "\n",
    "        # Concatenate all features\n",
    "        combined = torch.cat((lstm_out, gene_embedded, variance_embedded), dim=1)\n",
    "\n",
    "        # Classification output\n",
    "        output = self.fc(combined)\n",
    "        return output\n",
    "\n",
    "\n",
    "# Model Initialization\n",
    "model = MultiClassLSTM(vocab_size, embed_dim, hidden_dim, num_classes, gene_size, variance_size, gene_emb_dim, variance_emb_dim)\n",
    "\n",
    "\n",
    "y_full_np = np.concatenate([y_train, y_test, y_val])  # Full dataset labels\n",
    "unique_classes = np.unique(y_full_np)[1:]\n",
    "# unique_classes = np.array([0,1,2,3,4,5,6,7,8])\n",
    "# print(unique_classes)\n",
    "class_weights = compute_class_weight(class_weight=\"balanced\", classes=np.array([0,1,2,3,4,5,6,7,8]), y=y_full_np)\n",
    "class_weights = torch.tensor(class_weights, dtype=torch.float32, device=device)\n",
    "\n",
    "# Define loss function with class weights\n",
    "criterion = torch.nn.CrossEntropyLoss(weight=class_weights)\n",
    "\n",
    "optimizer = optim.Adam(model.parameters(), lr=0.1)\n",
    "\n",
    "optimizer.zero_grad()"
   ]
  },
  {
   "cell_type": "markdown",
   "metadata": {},
   "source": [
    "#### DataLoader:"
   ]
  },
  {
   "cell_type": "code",
   "execution_count": 25,
   "metadata": {},
   "outputs": [],
   "source": [
    "from torch.utils.data import Dataset, DataLoader\n",
    "import torch\n",
    "\n",
    "class CustomDataset(Dataset):\n",
    "\n",
    "    def __init__(self, text, gene, variance, classes):\n",
    "        self.text = text\n",
    "        self.gene = gene\n",
    "        self.variance = variance\n",
    "        self.classes = classes\n",
    "        self.max_size = 500\n",
    "\n",
    "    def __len__(self):\n",
    "        return len(self.text)\n",
    "\n",
    "    def __getitem__(self, idx):\n",
    "        return self.text[idx], self.gene[idx], self.variance[idx], self.classes[idx]\n",
    "\n",
    "\n",
    "def collate_fn(batch):\n",
    "    text_list = []\n",
    "    variation_list = []\n",
    "    gene_list = []\n",
    "    label_list = []\n",
    "    for text_data, gene_data, variation_data, classes in batch:\n",
    "        if len(text_data) > 500:\n",
    "            text_data = text_data[:2500]\n",
    "        text_list.append(text_data)\n",
    "        gene_list.append(gene_data)\n",
    "        variation_list.append(variation_data)\n",
    "        label_list.append(classes)\n",
    "    text_list = pad_sequence(text_list, batch_first=True, padding_value=0)\n",
    "\n",
    "    return text_list, torch.tensor(gene_list), torch.tensor(variation_list), torch.tensor(label_list)\n",
    "\n",
    "\n",
    "train_dataset = CustomDataset(text_to_numerical_representation_train, gene_train_encoded, variation_train_encoded, y_train)\n",
    "test_dataset = CustomDataset(text_to_numerical_representation_test, gene_test_encoded, variation_test_encoded, y_test)\n",
    "val_dataset = CustomDataset(text_to_numerical_representation_val, gene_val_encoded, variation_val_encoded, y_val)\n",
    "\n",
    "train_dataloader = DataLoader(train_dataset, batch_size=8, shuffle=True, drop_last=True, num_workers=0, collate_fn=collate_fn)\n",
    "test_dataloader = DataLoader(test_dataset, batch_size=8, shuffle=True, drop_last=True, num_workers=0, collate_fn=collate_fn)\n",
    "validation_dataloader = DataLoader(val_dataset, batch_size=8, shuffle=True, drop_last=True, num_workers=0, collate_fn=collate_fn)\n"
   ]
  },
  {
   "cell_type": "code",
   "execution_count": 26,
   "metadata": {},
   "outputs": [],
   "source": [
    "torch.cuda.empty_cache()"
   ]
  },
  {
   "cell_type": "code",
   "execution_count": 27,
   "metadata": {},
   "outputs": [
    {
     "data": {
      "text/plain": [
       "47"
      ]
     },
     "execution_count": 27,
     "metadata": {},
     "output_type": "execute_result"
    }
   ],
   "source": [
    "import gc \n",
    "gc.collect()"
   ]
  },
  {
   "cell_type": "code",
   "execution_count": 28,
   "metadata": {},
   "outputs": [],
   "source": [
    "torch.backends.cudnn.benchmark = True\n",
    "torch.backends.cudnn.enabled = True"
   ]
  },
  {
   "cell_type": "code",
   "execution_count": 29,
   "metadata": {},
   "outputs": [],
   "source": [
    "import os\n",
    "os.environ[\"CUDA_LAUNCH_BLOCKING\"] = \"1\""
   ]
  },
  {
   "cell_type": "code",
   "execution_count": 30,
   "metadata": {},
   "outputs": [
    {
     "name": "stderr",
     "output_type": "stream",
     "text": [
      "Epoch 1/10 [Training]: 100%|██████████| 265/265 [00:05<00:00, 52.76it/s]\n",
      "100%|██████████| 66/66 [00:05<00:00, 11.55it/s]\n",
      "Epoch 2/10 [Training]: 100%|██████████| 265/265 [00:04<00:00, 54.37it/s]\n",
      "100%|██████████| 66/66 [00:05<00:00, 11.04it/s]\n",
      "Epoch 3/10 [Training]: 100%|██████████| 265/265 [00:04<00:00, 54.06it/s]\n",
      "100%|██████████| 66/66 [00:05<00:00, 11.05it/s]\n",
      "Epoch 4/10 [Training]: 100%|██████████| 265/265 [00:04<00:00, 54.43it/s]\n",
      "100%|██████████| 66/66 [00:05<00:00, 11.24it/s]\n",
      "Epoch 5/10 [Training]: 100%|██████████| 265/265 [00:04<00:00, 54.45it/s]\n",
      "100%|██████████| 66/66 [00:05<00:00, 11.46it/s]\n",
      "Epoch 6/10 [Training]: 100%|██████████| 265/265 [00:04<00:00, 53.86it/s]\n",
      "100%|██████████| 66/66 [00:05<00:00, 11.24it/s]\n",
      "Epoch 7/10 [Training]: 100%|██████████| 265/265 [00:04<00:00, 53.73it/s]\n",
      "100%|██████████| 66/66 [00:06<00:00, 10.63it/s]\n",
      "Epoch 8/10 [Training]: 100%|██████████| 265/265 [00:04<00:00, 53.21it/s]\n",
      "100%|██████████| 66/66 [00:06<00:00, 10.51it/s]\n",
      "Epoch 9/10 [Training]: 100%|██████████| 265/265 [00:04<00:00, 54.23it/s]\n",
      "100%|██████████| 66/66 [00:05<00:00, 11.07it/s]\n",
      "Epoch 10/10 [Training]: 100%|██████████| 265/265 [00:05<00:00, 52.85it/s]\n",
      "100%|██████████| 66/66 [00:06<00:00, 10.84it/s]\n"
     ]
    }
   ],
   "source": [
    "num_epochs = 10\n",
    "train_losses = []\n",
    "val_losses = []\n",
    "os.environ[\"TORCH_USE_CUDA_DSA\"] = \"1\"\n",
    "import os\n",
    "\n",
    "torch.cuda.set_per_process_memory_fraction(0.5, device='cuda:0')  # 50% of GPU memory\n",
    "\n",
    "\n",
    "model.to(device)\n",
    "for epoch in range(num_epochs):\n",
    "    logger = return_logger(\"training_lstm1\",epoch+1)\n",
    "    torch.cuda.empty_cache()\n",
    "    logger.info(f\"----------------------------FOR EPOCH-{epoch}----------------------------\")\n",
    "    model.train()  # Set model to training mode\n",
    "    total_train_loss = 0\n",
    "\n",
    "    for batch in tqdm(train_dataloader, desc=f\"Epoch {epoch+1}/{num_epochs} [Training]\"):\n",
    "        text_input, gene_input, variance_input, labels = batch\n",
    "\n",
    "        # Move to device (if using GPU)\n",
    "        text_input = text_input.to(device)\n",
    "        gene_input = gene_input.to(device)\n",
    "        variance_input = variance_input.to(device)\n",
    "        labels = labels.to(device)  # Labels should be integer class indices\n",
    "\n",
    "        # print(text_input.device, gene_input.device, variance_input.device, labels.device)\n",
    "\n",
    "        optimizer.zero_grad()  # Clear previous gradients\n",
    "        \n",
    "        outputs = model(text_input.long(), gene_input.long(), variance_input.long())\n",
    "\n",
    "        # Compute Log Loss\n",
    "        loss = criterion(outputs, labels)\n",
    "\n",
    "        # Backward pass\n",
    "        loss.backward()\n",
    "        optimizer.step()\n",
    "\n",
    "        total_train_loss += loss.item()\n",
    "\n",
    "    # Compute average training loss\n",
    "    avg_train_loss = total_train_loss / len(train_dataloader)\n",
    "    train_losses.append(avg_train_loss)\n",
    "\n",
    "    # ================== Validation Phase ==================\n",
    "    model.eval()  # Set model to evaluation mode\n",
    "    total_val_loss = []\n",
    "\n",
    "    \n",
    "\n",
    "    with torch.no_grad():  # No gradient calculation during validation\n",
    "        for batch in tqdm(validation_dataloader):\n",
    "            text_input, gene_input, variance_input, labels = batch\n",
    "            if (-1 not in gene_input) or (-1 not in variance_input):\n",
    "                text_input = text_input.to(device)\n",
    "                gene_input = gene_input.to(device)\n",
    "                variance_input = variance_input.to(device)\n",
    "                labels = labels.to(device)\n",
    "\n",
    "                outputs = model(text_input.long(), gene_input.long(), variance_input.long())\n",
    "                loss = criterion(outputs, labels)       \n",
    "                total_val_loss.append(loss.item())\n",
    "                gc.collect()\n",
    "                torch.cuda.empty_cache()\n",
    "\n",
    "        avg_val_loss = sum(total_val_loss) / len(validation_dataloader)\n",
    "        val_losses.append(avg_val_loss)\n",
    "            \n",
    "        logger.info(f\"Epoch [{epoch+1}/{num_epochs}], Train Loss: {avg_train_loss:.4f}, Val Loss: {avg_val_loss:.4f}\")\n",
    "\n",
    "# Store losses for future use\n",
    "torch.save({'train_loss': train_losses, 'val_loss': val_losses}, 'losses.pth')"
   ]
  },
  {
   "cell_type": "code",
   "execution_count": 31,
   "metadata": {},
   "outputs": [
    {
     "data": {
      "image/png": "[encoded data removed]",
      "text/plain": [
       "<Figure size 800x500 with 1 Axes>"
      ]
     },
     "metadata": {},
     "output_type": "display_data"
    }
   ],
   "source": [
    "import matplotlib.pyplot as plt\n",
    "\n",
    "epochs = list(range(0,10))\n",
    "\n",
    "plt.figure(figsize=(8,5))\n",
    "plt.plot(epochs,train_losses,label=\"train loss\")\n",
    "plt.plot(epochs,val_losses,label=\"validation loss\")\n",
    "plt.legend()\n",
    "plt.grid()\n",
    "plt.show()"
   ]
  },
  {
   "cell_type": "code",
   "execution_count": 2,
   "metadata": {},
   "outputs": [],
   "source": [
    "from sklearn.metrics import confusion_matrix\n",
    "import seaborn as sns\n",
    "\n",
    "def plot_confusion_matrics(y_test, y_pred):\n",
    "    label = [1,2,3,4,5,6,7,8,9]\n",
    "    \n",
    "    C = confusion_matrix(y_test, y_pred)\n",
    "\n",
    "    A = (((C.T) / C.sum(axis=1)).T)\n",
    "\n",
    "    B = (C/C.sum(axis=0))\n",
    "\n",
    "    print(\"-\"*80, \"Confusion Matrix\", \"-\"*20)\n",
    "    plt.figure(figsize=(20,7))\n",
    "    sns.heatmap(C, annot=True, fmt=\".3f\", xticklabels=label,yticklabels=label)\n",
    "    plt.xlabel(\"Predicted Values\")\n",
    "    plt.ylabel(\"Original Values\")\n",
    "    plt.show()\n",
    "    \n",
    "    print(\"-\"*80, \"Precision Matrix (Column sum=1)\", \"-\"*20)\n",
    "    plt.figure(figsize=(20,7))\n",
    "    sns.heatmap(B, annot=True, fmt=\".3f\", xticklabels=label,yticklabels=label)\n",
    "    plt.xlabel(\"Predicted Values\")\n",
    "    plt.ylabel(\"Original Values\")\n",
    "    plt.show()\n",
    "    \n",
    "    print(\"-\"*80, \"Recall Matrix (Column sum=1)\", \"-\"*20)\n",
    "    plt.figure(figsize=(20,7))\n",
    "    sns.heatmap(A, annot=True, fmt=\".3f\", xticklabels=label,yticklabels=label)\n",
    "    plt.xlabel(\"Predicted Values\")\n",
    "    plt.ylabel(\"Original Values\")\n",
    "    plt.show()"
   ]
  },
  {
   "cell_type": "code",
   "execution_count": null,
   "metadata": {},
   "outputs": [],
   "source": []
  }
 ],
 "metadata": {
  "kernelspec": {
   "display_name": "Python 3",
   "language": "python",
   "name": "python3"
  },
  "language_info": {
   "codemirror_mode": {
    "name": "ipython",
    "version": 3
   },
   "file_extension": ".py",
   "mimetype": "text/x-python",
   "name": "python",
   "nbconvert_exporter": "python",
   "pygments_lexer": "ipython3",
   "version": "3.10.0"
  }
 },
 "nbformat": 4,
 "nbformat_minor": 2
}
